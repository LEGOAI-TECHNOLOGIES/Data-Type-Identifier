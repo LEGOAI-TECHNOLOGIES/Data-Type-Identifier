{
 "cells": [
  {
   "cell_type": "code",
   "execution_count": 3,
   "id": "b31bb4a6-7434-45cf-9876-06aec1cc4829",
   "metadata": {},
   "outputs": [],
   "source": [
    "# import necessary package\n",
    "from legoai import DataTypeIdentificationPipeline"
   ]
  },
  {
   "cell_type": "code",
   "execution_count": null,
   "id": "69612e6a-0b67-496e-8ccb-7d7ddc5ac487",
   "metadata": {},
   "outputs": [
    {
     "name": "stdout",
     "output_type": "stream",
     "text": [
      "[*] Provide your OPENAI API Key: \n"
     ]
    }
   ],
   "source": [
    "import getpass\n",
    "print(\"[*] Provide your OPENAI API Key: \")\n",
    "OPENAI_API_KEY = getpass.getpass()"
   ]
  },
  {
   "cell_type": "markdown",
   "id": "4c129d22-3439-470b-94da-038b23329061",
   "metadata": {},
   "source": [
    "# Scenario I: Inference L1 and L2 model ( multiple input files )"
   ]
  },
  {
   "cell_type": "code",
   "execution_count": 14,
   "id": "904dde61-dd39-4b53-a29c-720aecd7bea2",
   "metadata": {},
   "outputs": [],
   "source": [
    "# load the pretrained pipeline\n",
    "di_scenario_1 = DataTypeIdentificationPipeline.pretrained_pipeline(\n",
    "    openai_api_key = OPENAI_API_KEY\n",
    ")"
   ]
  },
  {
   "cell_type": "code",
   "execution_count": 15,
   "id": "d49e0933-2eae-47e3-9480-3727fba90dec",
   "metadata": {},
   "outputs": [],
   "source": [
    "# define the input path and output path [!NOTE check examples/ folder for test dataset ]\n",
    "INPUT_PATH = r\"examples/ecommerce_data\"\n",
    "OUTPUT_PATH = r\"di_opensource_inference/\""
   ]
  },
  {
   "cell_type": "markdown",
   "id": "a6b11fff-d0ff-4e74-874c-eb5a3f3c8270",
   "metadata": {},
   "source": [
    "### Ecommerce File Structure\n",
    "<img src=\"documentation/ecommerce_data_structure.png\">"
   ]
  },
  {
   "cell_type": "code",
   "execution_count": 16,
   "id": "c49bc47e-b344-4819-ad53-14fd535ab6f6",
   "metadata": {},
   "outputs": [
    {
     "name": "stderr",
     "output_type": "stream",
     "text": [
      "[*] processed product_category_name_translation.csv: 100%|█████████████████████████████████████████████████████████████████████████████████████████| 8/8 [00:16<00:00,  2.09s/it]\n"
     ]
    },
    {
     "name": "stdout",
     "output_type": "stream",
     "text": [
      "[*] Processed files saved at di_opensource_inference\\ecommerce_data_processed\n",
      "[*] Total columns present in the ecommerce_data :  47\n",
      "[*] Feature Extraction Started... 2024-03-27 12:12:09\n",
      "[*] Feature Creation Finished. Processed 47 rows in 0:02:04.976987\n",
      "[*] Features saved at di_opensource_inference\\features\\di_features_ecommerce_data_27032024.csv\n",
      "[*] Inference complete ... took 2.98 minute ...\n",
      "[*] Final output saved at di_opensource_inference\\output\\di_final_output_ecommerce_data_27032024.csv\n"
     ]
    }
   ],
   "source": [
    "# run the inference\n",
    "result_scenario_1 = di_scenario_1.predict(\n",
    "    input_path = INPUT_PATH,\n",
    "    output_path = OUTPUT_PATH\n",
    "    )"
   ]
  },
  {
   "cell_type": "code",
   "execution_count": 17,
   "id": "c000304d-21e7-4122-8c64-7ed5b694498d",
   "metadata": {},
   "outputs": [
    {
     "data": {
      "text/html": [
       "<div>\n",
       "<style scoped>\n",
       "    .dataframe tbody tr th:only-of-type {\n",
       "        vertical-align: middle;\n",
       "    }\n",
       "\n",
       "    .dataframe tbody tr th {\n",
       "        vertical-align: top;\n",
       "    }\n",
       "\n",
       "    .dataframe thead th {\n",
       "        text-align: right;\n",
       "    }\n",
       "</style>\n",
       "<table border=\"1\" class=\"dataframe\">\n",
       "  <thead>\n",
       "    <tr style=\"text-align: right;\">\n",
       "      <th></th>\n",
       "      <th>master_id</th>\n",
       "      <th>repo_name</th>\n",
       "      <th>table_name</th>\n",
       "      <th>column_name</th>\n",
       "      <th>predicted_datatype_l1</th>\n",
       "      <th>predicted_probability_l1</th>\n",
       "      <th>predicted_datatype_l2</th>\n",
       "    </tr>\n",
       "  </thead>\n",
       "  <tbody>\n",
       "    <tr>\n",
       "      <th>0</th>\n",
       "      <td>ecommerce_data_processed$$##$$olist_customers_...</td>\n",
       "      <td>ecommerce_data_processed</td>\n",
       "      <td>olist_customers_dataset</td>\n",
       "      <td>customer_id</td>\n",
       "      <td>alphanumeric</td>\n",
       "      <td>0.971195</td>\n",
       "      <td>alphanumeric</td>\n",
       "    </tr>\n",
       "    <tr>\n",
       "      <th>1</th>\n",
       "      <td>ecommerce_data_processed$$##$$olist_customers_...</td>\n",
       "      <td>ecommerce_data_processed</td>\n",
       "      <td>olist_customers_dataset</td>\n",
       "      <td>customer_unique_id</td>\n",
       "      <td>alphanumeric</td>\n",
       "      <td>0.985789</td>\n",
       "      <td>alphanumeric</td>\n",
       "    </tr>\n",
       "    <tr>\n",
       "      <th>2</th>\n",
       "      <td>ecommerce_data_processed$$##$$olist_customers_...</td>\n",
       "      <td>ecommerce_data_processed</td>\n",
       "      <td>olist_customers_dataset</td>\n",
       "      <td>customer_zip_code_prefix</td>\n",
       "      <td>integer</td>\n",
       "      <td>0.998066</td>\n",
       "      <td>integer_dimension</td>\n",
       "    </tr>\n",
       "    <tr>\n",
       "      <th>3</th>\n",
       "      <td>ecommerce_data_processed$$##$$olist_customers_...</td>\n",
       "      <td>ecommerce_data_processed</td>\n",
       "      <td>olist_customers_dataset</td>\n",
       "      <td>customer_city</td>\n",
       "      <td>close_ended_text</td>\n",
       "      <td>0.999915</td>\n",
       "      <td>close_ended_text</td>\n",
       "    </tr>\n",
       "    <tr>\n",
       "      <th>4</th>\n",
       "      <td>ecommerce_data_processed$$##$$olist_customers_...</td>\n",
       "      <td>ecommerce_data_processed</td>\n",
       "      <td>olist_customers_dataset</td>\n",
       "      <td>customer_state</td>\n",
       "      <td>close_ended_text</td>\n",
       "      <td>0.999469</td>\n",
       "      <td>close_ended_text</td>\n",
       "    </tr>\n",
       "  </tbody>\n",
       "</table>\n",
       "</div>"
      ],
      "text/plain": [
       "                                           master_id  \\\n",
       "0  ecommerce_data_processed$$##$$olist_customers_...   \n",
       "1  ecommerce_data_processed$$##$$olist_customers_...   \n",
       "2  ecommerce_data_processed$$##$$olist_customers_...   \n",
       "3  ecommerce_data_processed$$##$$olist_customers_...   \n",
       "4  ecommerce_data_processed$$##$$olist_customers_...   \n",
       "\n",
       "                  repo_name               table_name  \\\n",
       "0  ecommerce_data_processed  olist_customers_dataset   \n",
       "1  ecommerce_data_processed  olist_customers_dataset   \n",
       "2  ecommerce_data_processed  olist_customers_dataset   \n",
       "3  ecommerce_data_processed  olist_customers_dataset   \n",
       "4  ecommerce_data_processed  olist_customers_dataset   \n",
       "\n",
       "                column_name predicted_datatype_l1  predicted_probability_l1  \\\n",
       "0               customer_id          alphanumeric                  0.971195   \n",
       "1        customer_unique_id          alphanumeric                  0.985789   \n",
       "2  customer_zip_code_prefix               integer                  0.998066   \n",
       "3             customer_city      close_ended_text                  0.999915   \n",
       "4            customer_state      close_ended_text                  0.999469   \n",
       "\n",
       "  predicted_datatype_l2  \n",
       "0          alphanumeric  \n",
       "1          alphanumeric  \n",
       "2     integer_dimension  \n",
       "3      close_ended_text  \n",
       "4      close_ended_text  "
      ]
     },
     "execution_count": 17,
     "metadata": {},
     "output_type": "execute_result"
    }
   ],
   "source": [
    "# view the final result\n",
    "result_scenario_1.head()"
   ]
  },
  {
   "cell_type": "markdown",
   "id": "0538eaf6-4740-4b72-9184-d774f5a85568",
   "metadata": {},
   "source": [
    "# Scenario II: L1 and L2 model ( single input file )    "
   ]
  },
  {
   "cell_type": "code",
   "execution_count": 19,
   "id": "94ef0f5f-947a-4c43-8d5a-55f6ce47a89f",
   "metadata": {},
   "outputs": [],
   "source": [
    "# define single file path and the final output path\n",
    "INPUT_PATH = r\"examples/ecommerce_data/olist_customers_dataset.csv\"\n",
    "OUTPUT_PATH = r\"di_opensource_inference/\""
   ]
  },
  {
   "cell_type": "code",
   "execution_count": 20,
   "id": "fab9ed3d-1d99-4af6-86c3-ded438e34f94",
   "metadata": {},
   "outputs": [],
   "source": [
    "# load the pretrained pipeline\n",
    "di_scenario_2 = DataTypeIdentificationPipeline.pretrained_pipeline(\n",
    "    openai_api_key = OPENAI_API_KEY\n",
    ")"
   ]
  },
  {
   "cell_type": "code",
   "execution_count": 21,
   "id": "60849d91-7c2a-4159-a5f3-384148e295e9",
   "metadata": {},
   "outputs": [
    {
     "name": "stderr",
     "output_type": "stream",
     "text": [
      "[*] processed olist_customers_dataset.csv: 100%|███████████████████████████████████████████████████████████████████████████████████████████████████| 1/1 [00:02<00:00,  2.65s/it]\n"
     ]
    },
    {
     "name": "stdout",
     "output_type": "stream",
     "text": [
      "[*] Processed files saved at di_opensource_inference\\ecommerce_data_processed\n",
      "[*] Total columns present in the olist_customers_dataset.csv :  5\n",
      "[*] Feature Extraction Started... 2024-03-27 12:21:57\n",
      "[*] Feature Creation Finished. Processed 5 rows in 0:00:18.311537\n",
      "[*] Features saved at di_opensource_inference\\features\\di_features_ecommerce_data_27032024.csv\n",
      "[*] Inference complete ... took 0.37 minute ...\n",
      "[*] Final output saved at di_opensource_inference\\output\\di_final_output_ecommerce_data_27032024.csv\n"
     ]
    }
   ],
   "source": [
    "# run the inference\n",
    "result_scenario_2 = di_scenario_2.predict(\n",
    "    input_path = INPUT_PATH,\n",
    "    output_path = OUTPUT_PATH\n",
    ")"
   ]
  },
  {
   "cell_type": "code",
   "execution_count": 22,
   "id": "a372d4b4-5e76-4b38-8551-83dd4608697a",
   "metadata": {},
   "outputs": [
    {
     "data": {
      "text/html": [
       "<div>\n",
       "<style scoped>\n",
       "    .dataframe tbody tr th:only-of-type {\n",
       "        vertical-align: middle;\n",
       "    }\n",
       "\n",
       "    .dataframe tbody tr th {\n",
       "        vertical-align: top;\n",
       "    }\n",
       "\n",
       "    .dataframe thead th {\n",
       "        text-align: right;\n",
       "    }\n",
       "</style>\n",
       "<table border=\"1\" class=\"dataframe\">\n",
       "  <thead>\n",
       "    <tr style=\"text-align: right;\">\n",
       "      <th></th>\n",
       "      <th>master_id</th>\n",
       "      <th>repo_name</th>\n",
       "      <th>table_name</th>\n",
       "      <th>column_name</th>\n",
       "      <th>predicted_datatype_l1</th>\n",
       "      <th>predicted_probability_l1</th>\n",
       "      <th>predicted_datatype_l2</th>\n",
       "    </tr>\n",
       "  </thead>\n",
       "  <tbody>\n",
       "    <tr>\n",
       "      <th>0</th>\n",
       "      <td>ecommerce_data_processed$$##$$olist_customers_...</td>\n",
       "      <td>ecommerce_data_processed</td>\n",
       "      <td>olist_customers_dataset</td>\n",
       "      <td>customer_id</td>\n",
       "      <td>alphanumeric</td>\n",
       "      <td>0.971195</td>\n",
       "      <td>alphanumeric</td>\n",
       "    </tr>\n",
       "    <tr>\n",
       "      <th>1</th>\n",
       "      <td>ecommerce_data_processed$$##$$olist_customers_...</td>\n",
       "      <td>ecommerce_data_processed</td>\n",
       "      <td>olist_customers_dataset</td>\n",
       "      <td>customer_unique_id</td>\n",
       "      <td>alphanumeric</td>\n",
       "      <td>0.985789</td>\n",
       "      <td>alphanumeric</td>\n",
       "    </tr>\n",
       "    <tr>\n",
       "      <th>2</th>\n",
       "      <td>ecommerce_data_processed$$##$$olist_customers_...</td>\n",
       "      <td>ecommerce_data_processed</td>\n",
       "      <td>olist_customers_dataset</td>\n",
       "      <td>customer_zip_code_prefix</td>\n",
       "      <td>integer</td>\n",
       "      <td>0.998066</td>\n",
       "      <td>integer_dimension</td>\n",
       "    </tr>\n",
       "    <tr>\n",
       "      <th>3</th>\n",
       "      <td>ecommerce_data_processed$$##$$olist_customers_...</td>\n",
       "      <td>ecommerce_data_processed</td>\n",
       "      <td>olist_customers_dataset</td>\n",
       "      <td>customer_city</td>\n",
       "      <td>close_ended_text</td>\n",
       "      <td>0.999915</td>\n",
       "      <td>close_ended_text</td>\n",
       "    </tr>\n",
       "    <tr>\n",
       "      <th>4</th>\n",
       "      <td>ecommerce_data_processed$$##$$olist_customers_...</td>\n",
       "      <td>ecommerce_data_processed</td>\n",
       "      <td>olist_customers_dataset</td>\n",
       "      <td>customer_state</td>\n",
       "      <td>close_ended_text</td>\n",
       "      <td>0.999469</td>\n",
       "      <td>close_ended_text</td>\n",
       "    </tr>\n",
       "  </tbody>\n",
       "</table>\n",
       "</div>"
      ],
      "text/plain": [
       "                                           master_id  \\\n",
       "0  ecommerce_data_processed$$##$$olist_customers_...   \n",
       "1  ecommerce_data_processed$$##$$olist_customers_...   \n",
       "2  ecommerce_data_processed$$##$$olist_customers_...   \n",
       "3  ecommerce_data_processed$$##$$olist_customers_...   \n",
       "4  ecommerce_data_processed$$##$$olist_customers_...   \n",
       "\n",
       "                  repo_name               table_name  \\\n",
       "0  ecommerce_data_processed  olist_customers_dataset   \n",
       "1  ecommerce_data_processed  olist_customers_dataset   \n",
       "2  ecommerce_data_processed  olist_customers_dataset   \n",
       "3  ecommerce_data_processed  olist_customers_dataset   \n",
       "4  ecommerce_data_processed  olist_customers_dataset   \n",
       "\n",
       "                column_name predicted_datatype_l1  predicted_probability_l1  \\\n",
       "0               customer_id          alphanumeric                  0.971195   \n",
       "1        customer_unique_id          alphanumeric                  0.985789   \n",
       "2  customer_zip_code_prefix               integer                  0.998066   \n",
       "3             customer_city      close_ended_text                  0.999915   \n",
       "4            customer_state      close_ended_text                  0.999469   \n",
       "\n",
       "  predicted_datatype_l2  \n",
       "0          alphanumeric  \n",
       "1          alphanumeric  \n",
       "2     integer_dimension  \n",
       "3      close_ended_text  \n",
       "4      close_ended_text  "
      ]
     },
     "execution_count": 22,
     "metadata": {},
     "output_type": "execute_result"
    }
   ],
   "source": [
    "# view the final result\n",
    "result_scenario_2.head()"
   ]
  },
  {
   "cell_type": "markdown",
   "id": "22adba07-5a41-4e21-85f7-082decd2b80d",
   "metadata": {},
   "source": [
    "# Scenario III: Inference L1 model only ( multiple input files)"
   ]
  },
  {
   "cell_type": "code",
   "execution_count": 5,
   "id": "38af2b1d-c5a9-489a-9c27-dbdea125be54",
   "metadata": {},
   "outputs": [],
   "source": [
    "# define the input path and output path [!NOTE check examples/ folder for test dataset ]\n",
    "INPUT_PATH = r\"examples/ecommerce_data\"\n",
    "OUTPUT_PATH = r\"di_opensource_inference/\""
   ]
  },
  {
   "cell_type": "code",
   "execution_count": 6,
   "id": "6ac8a62a-3e68-4874-957c-82caba71acea",
   "metadata": {},
   "outputs": [
    {
     "name": "stdout",
     "output_type": "stream",
     "text": [
      "[*] OpenAI api key not provided ... inference will only run for L1 datatype identification ...\n"
     ]
    }
   ],
   "source": [
    "# load the pretrained pipeline ( for only l1 model )\n",
    "di_scenario_3 = DataTypeIdentificationPipeline.pretrained_pipeline(\n",
    "    \n",
    ")"
   ]
  },
  {
   "cell_type": "code",
   "execution_count": 8,
   "id": "63e50b21-4964-4781-abdc-39aad1b2eaeb",
   "metadata": {},
   "outputs": [
    {
     "name": "stderr",
     "output_type": "stream",
     "text": [
      "[*] processed product_category_name_translation.csv: 100%|█████████████████████████████████████████████████████████████████████████████████████████| 8/8 [00:16<00:00,  2.05s/it]\n"
     ]
    },
    {
     "name": "stdout",
     "output_type": "stream",
     "text": [
      "[*] Processed files saved at di_opensource_inference\\ecommerce_data_processed\n",
      "[*] Total columns present in the ecommerce_data :  47\n",
      "[*] Feature Extraction Started... 2024-03-27 12:03:03\n",
      "[*] Feature Creation Finished. Processed 47 rows in 0:01:57.798938\n",
      "[*] Features saved at di_opensource_inference\\features\\di_features_ecommerce_data_27032024.csv\n",
      "[*] Inference complete ... took 2.27 minute ...\n",
      "[*] Final output saved at di_opensource_inference\\output\\di_final_output_ecommerce_data_27032024.csv\n"
     ]
    }
   ],
   "source": [
    "# run the inference ( upto L1 only )\n",
    "result_scenario_3 = di_scenario_3.predict(\n",
    "    input_path = INPUT_PATH,\n",
    "    output_path = OUTPUT_PATH\n",
    ")"
   ]
  },
  {
   "cell_type": "code",
   "execution_count": 9,
   "id": "3756965a-44ce-43d7-94f3-8b6aab750970",
   "metadata": {},
   "outputs": [
    {
     "data": {
      "text/html": [
       "<div>\n",
       "<style scoped>\n",
       "    .dataframe tbody tr th:only-of-type {\n",
       "        vertical-align: middle;\n",
       "    }\n",
       "\n",
       "    .dataframe tbody tr th {\n",
       "        vertical-align: top;\n",
       "    }\n",
       "\n",
       "    .dataframe thead th {\n",
       "        text-align: right;\n",
       "    }\n",
       "</style>\n",
       "<table border=\"1\" class=\"dataframe\">\n",
       "  <thead>\n",
       "    <tr style=\"text-align: right;\">\n",
       "      <th></th>\n",
       "      <th>master_id</th>\n",
       "      <th>repo_name</th>\n",
       "      <th>table_name</th>\n",
       "      <th>column_name</th>\n",
       "      <th>predicted_datatype_l1</th>\n",
       "      <th>predicted_probability_l1</th>\n",
       "    </tr>\n",
       "  </thead>\n",
       "  <tbody>\n",
       "    <tr>\n",
       "      <th>0</th>\n",
       "      <td>ecommerce_data_processed$$##$$olist_customers_...</td>\n",
       "      <td>ecommerce_data_processed</td>\n",
       "      <td>olist_customers_dataset</td>\n",
       "      <td>customer_id</td>\n",
       "      <td>alphanumeric</td>\n",
       "      <td>0.971195</td>\n",
       "    </tr>\n",
       "    <tr>\n",
       "      <th>1</th>\n",
       "      <td>ecommerce_data_processed$$##$$olist_customers_...</td>\n",
       "      <td>ecommerce_data_processed</td>\n",
       "      <td>olist_customers_dataset</td>\n",
       "      <td>customer_unique_id</td>\n",
       "      <td>alphanumeric</td>\n",
       "      <td>0.985789</td>\n",
       "    </tr>\n",
       "    <tr>\n",
       "      <th>2</th>\n",
       "      <td>ecommerce_data_processed$$##$$olist_customers_...</td>\n",
       "      <td>ecommerce_data_processed</td>\n",
       "      <td>olist_customers_dataset</td>\n",
       "      <td>customer_zip_code_prefix</td>\n",
       "      <td>integer</td>\n",
       "      <td>0.998066</td>\n",
       "    </tr>\n",
       "    <tr>\n",
       "      <th>3</th>\n",
       "      <td>ecommerce_data_processed$$##$$olist_customers_...</td>\n",
       "      <td>ecommerce_data_processed</td>\n",
       "      <td>olist_customers_dataset</td>\n",
       "      <td>customer_city</td>\n",
       "      <td>close_ended_text</td>\n",
       "      <td>0.999915</td>\n",
       "    </tr>\n",
       "    <tr>\n",
       "      <th>4</th>\n",
       "      <td>ecommerce_data_processed$$##$$olist_customers_...</td>\n",
       "      <td>ecommerce_data_processed</td>\n",
       "      <td>olist_customers_dataset</td>\n",
       "      <td>customer_state</td>\n",
       "      <td>close_ended_text</td>\n",
       "      <td>0.999469</td>\n",
       "    </tr>\n",
       "  </tbody>\n",
       "</table>\n",
       "</div>"
      ],
      "text/plain": [
       "                                           master_id  \\\n",
       "0  ecommerce_data_processed$$##$$olist_customers_...   \n",
       "1  ecommerce_data_processed$$##$$olist_customers_...   \n",
       "2  ecommerce_data_processed$$##$$olist_customers_...   \n",
       "3  ecommerce_data_processed$$##$$olist_customers_...   \n",
       "4  ecommerce_data_processed$$##$$olist_customers_...   \n",
       "\n",
       "                  repo_name               table_name  \\\n",
       "0  ecommerce_data_processed  olist_customers_dataset   \n",
       "1  ecommerce_data_processed  olist_customers_dataset   \n",
       "2  ecommerce_data_processed  olist_customers_dataset   \n",
       "3  ecommerce_data_processed  olist_customers_dataset   \n",
       "4  ecommerce_data_processed  olist_customers_dataset   \n",
       "\n",
       "                column_name predicted_datatype_l1  predicted_probability_l1  \n",
       "0               customer_id          alphanumeric                  0.971195  \n",
       "1        customer_unique_id          alphanumeric                  0.985789  \n",
       "2  customer_zip_code_prefix               integer                  0.998066  \n",
       "3             customer_city      close_ended_text                  0.999915  \n",
       "4            customer_state      close_ended_text                  0.999469  "
      ]
     },
     "execution_count": 9,
     "metadata": {},
     "output_type": "execute_result"
    }
   ],
   "source": [
    "result_scenario_3.head()"
   ]
  },
  {
   "cell_type": "markdown",
   "id": "e95f3a96-0e1a-4e90-a215-572daab0cc11",
   "metadata": {},
   "source": [
    "# Scenario IV: Inference L1 model only ( single input file )"
   ]
  },
  {
   "cell_type": "code",
   "execution_count": 10,
   "id": "08066bbc-1fce-4029-b6d2-142b18122d86",
   "metadata": {},
   "outputs": [],
   "source": [
    "# define single file path and the final output path\n",
    "INPUT_PATH = r\"examples/ecommerce_data/olist_customers_dataset.csv\"\n",
    "OUTPUT_PATH = r\"di_opensource_inference/\""
   ]
  },
  {
   "cell_type": "code",
   "execution_count": 11,
   "id": "c61722a0-ca64-41c0-bf74-1bda9d0e7816",
   "metadata": {},
   "outputs": [
    {
     "name": "stdout",
     "output_type": "stream",
     "text": [
      "[*] OpenAI api key not provided ... inference will only run for L1 datatype identification ...\n"
     ]
    }
   ],
   "source": [
    "# load the pretrained pipeline ( for only l1 model )\n",
    "di_scenario_4 = DataTypeIdentificationPipeline.pretrained_pipeline(\n",
    "    \n",
    ")"
   ]
  },
  {
   "cell_type": "code",
   "execution_count": 12,
   "id": "f715b155-9a17-42a3-9513-ee0e9317cbb3",
   "metadata": {},
   "outputs": [
    {
     "name": "stderr",
     "output_type": "stream",
     "text": [
      "[*] processed olist_customers_dataset.csv: 100%|███████████████████████████████████████████████████████████████████████████████████████████████████| 1/1 [00:02<00:00,  2.37s/it]\n"
     ]
    },
    {
     "name": "stdout",
     "output_type": "stream",
     "text": [
      "[*] Processed files saved at di_opensource_inference\\ecommerce_data_processed\n",
      "[*] Total columns present in the olist_customers_dataset.csv :  5\n",
      "[*] Feature Extraction Started... 2024-03-27 12:05:54\n",
      "[*] Feature Creation Finished. Processed 5 rows in 0:00:16.090465\n",
      "[*] Features saved at di_opensource_inference\\features\\di_features_ecommerce_data_27032024.csv\n",
      "[*] Inference complete ... took 0.31 minute ...\n",
      "[*] Final output saved at di_opensource_inference\\output\\di_final_output_ecommerce_data_27032024.csv\n"
     ]
    }
   ],
   "source": [
    "# run the inference ( upto L1 only)\n",
    "result_scenario_4 = di_scenario_4.predict(\n",
    "    input_path = INPUT_PATH,\n",
    "    output_path = OUTPUT_PATH\n",
    ")"
   ]
  },
  {
   "cell_type": "code",
   "execution_count": 13,
   "id": "995a225b-bac4-4a47-885e-9a32b7c6d458",
   "metadata": {},
   "outputs": [
    {
     "data": {
      "text/html": [
       "<div>\n",
       "<style scoped>\n",
       "    .dataframe tbody tr th:only-of-type {\n",
       "        vertical-align: middle;\n",
       "    }\n",
       "\n",
       "    .dataframe tbody tr th {\n",
       "        vertical-align: top;\n",
       "    }\n",
       "\n",
       "    .dataframe thead th {\n",
       "        text-align: right;\n",
       "    }\n",
       "</style>\n",
       "<table border=\"1\" class=\"dataframe\">\n",
       "  <thead>\n",
       "    <tr style=\"text-align: right;\">\n",
       "      <th></th>\n",
       "      <th>master_id</th>\n",
       "      <th>repo_name</th>\n",
       "      <th>table_name</th>\n",
       "      <th>column_name</th>\n",
       "      <th>predicted_datatype_l1</th>\n",
       "      <th>predicted_probability_l1</th>\n",
       "    </tr>\n",
       "  </thead>\n",
       "  <tbody>\n",
       "    <tr>\n",
       "      <th>0</th>\n",
       "      <td>ecommerce_data_processed$$##$$olist_customers_...</td>\n",
       "      <td>ecommerce_data_processed</td>\n",
       "      <td>olist_customers_dataset</td>\n",
       "      <td>customer_id</td>\n",
       "      <td>alphanumeric</td>\n",
       "      <td>0.971195</td>\n",
       "    </tr>\n",
       "    <tr>\n",
       "      <th>1</th>\n",
       "      <td>ecommerce_data_processed$$##$$olist_customers_...</td>\n",
       "      <td>ecommerce_data_processed</td>\n",
       "      <td>olist_customers_dataset</td>\n",
       "      <td>customer_unique_id</td>\n",
       "      <td>alphanumeric</td>\n",
       "      <td>0.985789</td>\n",
       "    </tr>\n",
       "    <tr>\n",
       "      <th>2</th>\n",
       "      <td>ecommerce_data_processed$$##$$olist_customers_...</td>\n",
       "      <td>ecommerce_data_processed</td>\n",
       "      <td>olist_customers_dataset</td>\n",
       "      <td>customer_zip_code_prefix</td>\n",
       "      <td>integer</td>\n",
       "      <td>0.998066</td>\n",
       "    </tr>\n",
       "    <tr>\n",
       "      <th>3</th>\n",
       "      <td>ecommerce_data_processed$$##$$olist_customers_...</td>\n",
       "      <td>ecommerce_data_processed</td>\n",
       "      <td>olist_customers_dataset</td>\n",
       "      <td>customer_city</td>\n",
       "      <td>close_ended_text</td>\n",
       "      <td>0.999915</td>\n",
       "    </tr>\n",
       "    <tr>\n",
       "      <th>4</th>\n",
       "      <td>ecommerce_data_processed$$##$$olist_customers_...</td>\n",
       "      <td>ecommerce_data_processed</td>\n",
       "      <td>olist_customers_dataset</td>\n",
       "      <td>customer_state</td>\n",
       "      <td>close_ended_text</td>\n",
       "      <td>0.999469</td>\n",
       "    </tr>\n",
       "  </tbody>\n",
       "</table>\n",
       "</div>"
      ],
      "text/plain": [
       "                                           master_id  \\\n",
       "0  ecommerce_data_processed$$##$$olist_customers_...   \n",
       "1  ecommerce_data_processed$$##$$olist_customers_...   \n",
       "2  ecommerce_data_processed$$##$$olist_customers_...   \n",
       "3  ecommerce_data_processed$$##$$olist_customers_...   \n",
       "4  ecommerce_data_processed$$##$$olist_customers_...   \n",
       "\n",
       "                  repo_name               table_name  \\\n",
       "0  ecommerce_data_processed  olist_customers_dataset   \n",
       "1  ecommerce_data_processed  olist_customers_dataset   \n",
       "2  ecommerce_data_processed  olist_customers_dataset   \n",
       "3  ecommerce_data_processed  olist_customers_dataset   \n",
       "4  ecommerce_data_processed  olist_customers_dataset   \n",
       "\n",
       "                column_name predicted_datatype_l1  predicted_probability_l1  \n",
       "0               customer_id          alphanumeric                  0.971195  \n",
       "1        customer_unique_id          alphanumeric                  0.985789  \n",
       "2  customer_zip_code_prefix               integer                  0.998066  \n",
       "3             customer_city      close_ended_text                  0.999915  \n",
       "4            customer_state      close_ended_text                  0.999469  "
      ]
     },
     "execution_count": 13,
     "metadata": {},
     "output_type": "execute_result"
    }
   ],
   "source": [
    "result_scenario_4.head()"
   ]
  },
  {
   "cell_type": "code",
   "execution_count": null,
   "id": "d2445709-b083-4639-a400-a15003ae335f",
   "metadata": {},
   "outputs": [],
   "source": []
  }
 ],
 "metadata": {
  "kernelspec": {
   "display_name": "di-venv",
   "language": "python",
   "name": "di-venv"
  },
  "language_info": {
   "codemirror_mode": {
    "name": "ipython",
    "version": 3
   },
   "file_extension": ".py",
   "mimetype": "text/x-python",
   "name": "python",
   "nbconvert_exporter": "python",
   "pygments_lexer": "ipython3",
   "version": "3.11.5"
  }
 },
 "nbformat": 4,
 "nbformat_minor": 5
}
